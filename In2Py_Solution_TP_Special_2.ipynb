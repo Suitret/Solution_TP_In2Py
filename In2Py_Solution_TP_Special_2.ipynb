{
 "cells": [
  {
   "cell_type": "code",
   "execution_count": 1,
   "metadata": {},
   "outputs": [],
   "source": [
    "#Exercice 1\n",
    "\n",
    "import math\n",
    "\n",
    "x = int(input(\"Entrez un entier(!= 0): \"))\n",
    "while x == 0:\n",
    "    x = int(input(\"Entrez un entier(!= 0): \"))\n",
    "\n",
    "y = int(input(\"Entrez un second entier : \"))\n",
    "\n",
    "result = ((x**(2+y))**(1/2))/((1/x)+ math.sin(y))\n",
    "print(result)\n"
   ]
  },
  {
   "cell_type": "code",
   "execution_count": 58,
   "metadata": {},
   "outputs": [
    {
     "name": "stdout",
     "output_type": "stream",
     "text": [
      "Entrez un entier : 4\n",
      "Entrez un entier(> 0) : 4\n",
      "4 ^ 4 = 256\n"
     ]
    }
   ],
   "source": [
    "#Exercice 2\n",
    "\n",
    "def ownpowerfn(b, n):\n",
    "    \n",
    "    p = 1\n",
    "    for i in range(n):\n",
    "        p *= b\n",
    "    return p\n",
    "\n",
    "b = int(input(\"Entrez un entier : \"))\n",
    "n = int(input(\"Entrez un entier(> 0) : \"))\n",
    "while n <= 0:\n",
    "    n = int(input(\"Entrez un entier(> 0) : \"))\n",
    "    \n",
    "print(b,\"^\",n,\"=\",ownpowerfn(b,n))\n",
    "\n",
    "#If we don't specify that n is positive, we will get -1 < result < 1"
   ]
  },
  {
   "cell_type": "code",
   "execution_count": 4,
   "metadata": {},
   "outputs": [],
   "source": [
    "#Exercice 3\n",
    "# Question a)\n",
    "\n",
    "def arithmetic_mean(x, y):\n",
    "    return (x+y)/2\n",
    "\n",
    "def geometric_mean(x, y):\n",
    "    return (x*y)**(1/2)"
   ]
  },
  {
   "cell_type": "code",
   "execution_count": 2,
   "metadata": {},
   "outputs": [],
   "source": [
    "#Exercice 3\n",
    "# Question b)\n",
    "\n",
    "def celsius_to_fahrenheit(c):\n",
    "    return c*(9/5) + 32\n",
    "\n",
    "def fahrenheit_to_celsius(f):\n",
    "    return (5/9)*(f-32)\n"
   ]
  },
  {
   "cell_type": "code",
   "execution_count": null,
   "metadata": {},
   "outputs": [],
   "source": [
    "#Exercice 3\n",
    "# Question c)\n",
    "\n",
    "def degrees_to_radians(d):\n",
    "    return 0.0174533*d\n",
    "\n",
    "def radians_to_degrees(r):\n",
    "    return 57.296*r\n",
    "\n"
   ]
  },
  {
   "cell_type": "code",
   "execution_count": 24,
   "metadata": {},
   "outputs": [],
   "source": [
    "#Exercice 3\n",
    "# Question d)\n",
    "\n",
    "def circumference(r):\n",
    "    return 3.14*2*r\n",
    "\n",
    "def area(r):\n",
    "    return 3.14*(r**2)\n"
   ]
  },
  {
   "cell_type": "code",
   "execution_count": 52,
   "metadata": {},
   "outputs": [
    {
     "name": "stdout",
     "output_type": "stream",
     "text": [
      "Arithmetic Mean = 10.5105\tGeometric Mean = 9.503420436874293\n",
      "Arithmetic Mean = 10.006960218437147\tGeometric Mean = 9.994283391107501\n",
      "Arithmetic Mean = 10.000621804772324\tGeometric Mean = 10.000619796122631\n",
      "Arithmetic Mean = 10.000620800447479\tGeometric Mean = 10.000620800447427\n",
      "Arithmetic Mean = 10.000620800447454\tGeometric Mean = 10.000620800447454\n",
      "Arithmetic Mean = 10.000620800447454\tGeometric Mean = 10.000620800447454\n",
      "Arithmetic Mean = 10.000620800447454\tGeometric Mean = 10.000620800447454\n",
      "Arithmetic Mean = 10.000620800447454\tGeometric Mean = 10.000620800447454\n",
      "Arithmetic Mean = 10.000620800447454\tGeometric Mean = 10.000620800447454\n",
      "Arithmetic Mean = 10.000620800447454\tGeometric Mean = 10.000620800447454\n"
     ]
    }
   ],
   "source": [
    "#Exercice 4\n",
    "# Question a)\n",
    "\n",
    "def avggeom(x,y):\n",
    "    \n",
    "    a_m = (x+y)/2\n",
    "    g_m = (x*y)**(0.5)\n",
    "    \n",
    "    print(\"Arithmetic Mean =\",a_m,end='\\t')\n",
    "    print(\"Geometric Mean =\",g_m)\n",
    "    return a_m, g_m\n",
    "\n",
    "\n",
    "a, b = 6.021, 15\n",
    "\n",
    "for i in range(10):\n",
    "    temp = avggeom(a,b)\n",
    "    a = temp[0]\n",
    "    b = temp[1]"
   ]
  },
  {
   "cell_type": "code",
   "execution_count": 54,
   "metadata": {},
   "outputs": [
    {
     "name": "stdout",
     "output_type": "stream",
     "text": [
      "Périmètre = 13.416407864998739\n",
      "Aire = 3.3541019662496847\n"
     ]
    }
   ],
   "source": [
    "#Exercice 4\n",
    "# Question b)\n",
    "\n",
    "def distancefn(a,b):\n",
    "    \n",
    "    x1, y1, x2, y2 = a[0], a[1], b[0], b[1]\n",
    "    \n",
    "    return (((x2-x1)**2) + ((y2-y1)**2))**(0.5)\n",
    "\n",
    "A = (1,2)\n",
    "B = (2,4)\n",
    "C = (4,8)\n",
    "\n",
    "perimeter = distancefn(A,B) + distancefn(B,C) + distancefn(C,A)\n",
    "print(\"Périmètre =\",perimeter)\n",
    "\n",
    "area = (distancefn(A,B) + distancefn(B,C))/2\n",
    "print(\"Aire =\",area)"
   ]
  },
  {
   "cell_type": "code",
   "execution_count": 65,
   "metadata": {},
   "outputs": [
    {
     "name": "stdout",
     "output_type": "stream",
     "text": [
      "--------------MENU--------------\n",
      "1. Evaluation d'un factoriel\n",
      "2. Evaluation d'un polynome\n",
      "3. Quitter\n",
      "\n",
      "Faites un choix : 2\n",
      "Entrez le coefficient de x^2 : 1\n",
      "Entrez le coefficient de x : 1\n",
      "Entrez le dernier coefficient : 1\n",
      "Entrez la valeur de x : 3\n",
      "\n",
      "P( 3 )= 1 *( 3 ^2) + 1 * 3 + 1 = 13\n",
      "--------------------------------\n",
      "--------------MENU--------------\n",
      "1. Evaluation d'un factoriel\n",
      "2. Evaluation d'un polynome\n",
      "3. Quitter\n",
      "\n",
      "Faites un choix : 1\n",
      "Entrez un entier(>=0) : 6\n",
      "6 ! = 720\n",
      "--------------------------------\n",
      "--------------MENU--------------\n",
      "1. Evaluation d'un factoriel\n",
      "2. Evaluation d'un polynome\n",
      "3. Quitter\n",
      "\n",
      "Faites un choix : 3\n"
     ]
    }
   ],
   "source": [
    "#Exercice 5\n",
    "\n",
    "def fact2nddeg():\n",
    "    \n",
    "    choice = 1\n",
    "    \n",
    "    while choice in {1,2}:\n",
    "        \n",
    "        print(\"--------------MENU--------------\")\n",
    "        print(\"1. Evaluation d'un factoriel\")\n",
    "        print(\"2. Evaluation d'un polynome\")\n",
    "        print(\"3. Quitter\")\n",
    "        choice = int(input(\"\\nFaites un choix : \"))\n",
    "        \n",
    "        if choice == 1:\n",
    "            n = int(input(\"Entrez un entier(>=0) : \"))\n",
    "            while n < 0:\n",
    "                n = int(input(\"Entrez un entier(>=0) : \"))\n",
    "                \n",
    "            if n == 0:\n",
    "                print(\"0! = 1\")\n",
    "                print(\"--------------------------------\")\n",
    "            else :\n",
    "                factorial = 1\n",
    "                \n",
    "                for i in range(1,n+1):\n",
    "                    factorial *= i\n",
    "                    \n",
    "                print(n,\"! =\",factorial)\n",
    "                print(\"--------------------------------\")\n",
    "                \n",
    "        elif choice == 2:\n",
    "            a = int(input(\"Entrez le coefficient de x^2 : \"))\n",
    "            b = int(input(\"Entrez le coefficient de x : \"))\n",
    "            c = int(input(\"Entrez le dernier coefficient : \"))\n",
    "            x = int(input(\"Entrez la valeur de x : \"))\n",
    "            result = a*(x**2) + b*x + c\n",
    "            \n",
    "            print(\"\\nP(\",x,\")=\",a,\"*(\",x,\"^2)\",\"+\",b,\"*\",x,\"+\",c,\"=\",result)\n",
    "            print(\"--------------------------------\")\n",
    "\n",
    "            \n",
    "fact2nddeg()"
   ]
  },
  {
   "cell_type": "code",
   "execution_count": 68,
   "metadata": {},
   "outputs": [],
   "source": [
    "#Exercice 6\n",
    "\n",
    "def power(x,n):\n",
    "    \n",
    "    if n == 0:\n",
    "        return 1\n",
    "    else : \n",
    "        return x*power(x,n-1)\n",
    "    "
   ]
  },
  {
   "cell_type": "code",
   "execution_count": 71,
   "metadata": {},
   "outputs": [
    {
     "name": "stdout",
     "output_type": "stream",
     "text": [
      "0 \t 1\t1\t2\t3\t5\t8\t13\t"
     ]
    }
   ],
   "source": [
    "#Exercice 7\n",
    "\n",
    "def fibonacci(n):\n",
    "    \n",
    "    a, b = 0, 1\n",
    "    \n",
    "    if n >= 0:\n",
    "        \n",
    "        if n == 0:\n",
    "            print(n)\n",
    "        elif n == 1:\n",
    "            print(a,\"\\t\",b)\n",
    "        else : \n",
    "            print(a,\"\\t\",b,end=\"\\t\")\n",
    "            for i in range(2,n):\n",
    "                suivant = a + b\n",
    "                print(suivant,end=\"\\t\")\n",
    "                a = b\n",
    "                b = suivant\n"
   ]
  }
 ],
 "metadata": {
  "kernelspec": {
   "display_name": "Python 3",
   "language": "python",
   "name": "python3"
  },
  "language_info": {
   "codemirror_mode": {
    "name": "ipython",
    "version": 3
   },
   "file_extension": ".py",
   "mimetype": "text/x-python",
   "name": "python",
   "nbconvert_exporter": "python",
   "pygments_lexer": "ipython3",
   "version": "3.8.10"
  }
 },
 "nbformat": 4,
 "nbformat_minor": 4
}
