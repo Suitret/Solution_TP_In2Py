{
 "cells": [
  {
   "cell_type": "code",
   "execution_count": 4,
   "metadata": {},
   "outputs": [
    {
     "name": "stdout",
     "output_type": "stream",
     "text": [
      "Entrez un entier naturel : 10\n",
      "Somme = 35\n"
     ]
    }
   ],
   "source": [
    "#Exercice 1\n",
    "# Volet I)\n",
    "\n",
    "n = int(input(\"Entrez un entier naturel(>= 1): \"))\n",
    "somme = 0\n",
    "\n",
    "if (n < 1):\n",
    "    print(\"Saisie invalide !\")\n",
    "    \n",
    "else :\n",
    "    for i in range(0,n,2):\n",
    "        somme += (i+3)\n",
    "    print(\"Somme =\",somme)\n"
   ]
  },
  {
   "cell_type": "code",
   "execution_count": 5,
   "metadata": {
    "scrolled": true
   },
   "outputs": [
    {
     "name": "stdout",
     "output_type": "stream",
     "text": [
      "Entrez un entier naturel : 10\n",
      "Produit = 3465\n"
     ]
    }
   ],
   "source": [
    "#Exercice 1\n",
    "# Volet II)\n",
    "\n",
    "n = int(input(\"Entrez un entier naturel(> 1): \"))\n",
    "produit = 1\n",
    "\n",
    "if (n <= 1):\n",
    "    print(\"Saisie invalide !\")\n",
    "    \n",
    "else :\n",
    "    for i in range(2,n,2):\n",
    "        produit *= (i+3)\n",
    "    print(\"Produit =\",produit)\n"
   ]
  },
  {
   "cell_type": "code",
   "execution_count": 26,
   "metadata": {},
   "outputs": [
    {
     "name": "stdout",
     "output_type": "stream",
     "text": [
      "Entrez la position du jour dans la semaine(entre 0 et 6) : 3\n",
      "Jeudi\n"
     ]
    }
   ],
   "source": [
    "#Exercice 2\n",
    "\n",
    "n = int(input(\"Entrez la position du jour dans la semaine(entre 0 et 6) : \"))\n",
    "\n",
    "if(n in range(7)):\n",
    "    if(n in range(5)):\n",
    "        if n == 0:\n",
    "            print(\"Lundi\")\n",
    "        elif n == 1:\n",
    "            print(\"Mardi\")\n",
    "        elif n == 2:\n",
    "            print(\"Mercredi\")\n",
    "        elif n == 3:\n",
    "            print(\"Jeudi\")\n",
    "        else :\n",
    "            print(\"Vendredi\")\n",
    "            \n",
    "    else :\n",
    "        print(\"Weekend\")\n",
    "else :\n",
    "    print(\"Saisie invalide !\")\n",
    "    "
   ]
  },
  {
   "cell_type": "code",
   "execution_count": 28,
   "metadata": {},
   "outputs": [
    {
     "name": "stdout",
     "output_type": "stream",
     "text": [
      "Entrez la position du mois dans l'année(entre 0 et 11) : 5\n",
      "30 jours\n"
     ]
    }
   ],
   "source": [
    "#Exercice 3\n",
    "\n",
    "n = int(input(\"Entrez la position du mois dans l'année(entre 0 et 11) : \"))\n",
    "\n",
    "if(n in range(12)):\n",
    "    if n == 1:\n",
    "        print(\"28 jours\")\n",
    "    elif ((n == 0) or (n == 2) or (n == 4) or (n == 6) or (n == 7) or (n == 9) or (n == 11)):\n",
    "        print(\"31 jours\")\n",
    "    else :\n",
    "        print(\"30 jours\")\n",
    "else :\n",
    "    print(\"Saisie invalide !\")\n",
    "    "
   ]
  },
  {
   "cell_type": "code",
   "execution_count": 16,
   "metadata": {},
   "outputs": [
    {
     "name": "stdout",
     "output_type": "stream",
     "text": [
      "Tertius\n",
      "Tertius\n",
      "Tertius\n"
     ]
    }
   ],
   "source": [
    "#Exercice 4\n",
    "# Version I)\n",
    "\n",
    "prenom = \"Tertius\"\n",
    "\n",
    "for i in range(3):\n",
    "    print(prenom)\n",
    "    "
   ]
  },
  {
   "cell_type": "code",
   "execution_count": 17,
   "metadata": {},
   "outputs": [
    {
     "name": "stdout",
     "output_type": "stream",
     "text": [
      "Tertius\n",
      "Tertius\n",
      "Tertius\n"
     ]
    }
   ],
   "source": [
    "#Exercice 4\n",
    "# Version II)\n",
    "\n",
    "i, prenom = 0, \"Tertius\"\n",
    "\n",
    "while i < 3:\n",
    "    print(prenom)\n",
    "    i += 1\n",
    "    "
   ]
  },
  {
   "cell_type": "code",
   "execution_count": 20,
   "metadata": {},
   "outputs": [
    {
     "name": "stdout",
     "output_type": "stream",
     "text": [
      "Entrez un entier : 10\n",
      "Entrez un second entier : 3\n",
      "10\t3\t13\t16\t29\t45\t74\t119\t193\t312\t505\t817\t1322\t2139\t3461\t"
     ]
    }
   ],
   "source": [
    "#Exercice 5\n",
    "\n",
    "n1 = int(input(\"Entrez un entier : \"))\n",
    "n2 = int(input(\"Entrez un second entier : \"))\n",
    "\n",
    "print(n1,end='\\t')\n",
    "print(n2,end='\\t')\n",
    "\n",
    "for i in range(13):\n",
    "    suivant = n1 + n2\n",
    "    print(suivant,end='\\t')\n",
    "    n1 = n2\n",
    "    n2 = suivant"
   ]
  },
  {
   "cell_type": "code",
   "execution_count": 22,
   "metadata": {},
   "outputs": [
    {
     "name": "stdout",
     "output_type": "stream",
     "text": [
      "Entrez un entier : 0\n",
      "Entrez un second entier : 1\n",
      "0\t1\t0\t3\t1\t9\t7\t30\t36\t108\t162\t405\t688\t1559\t2843\t6098\t11578\t24083\t46775\t95636\t188143\t380979\t754918\t1520396\t3024952\t6073664\t12111688\t24276836\t48473482\t97067249\t"
     ]
    }
   ],
   "source": [
    "#Exercice 6\n",
    "\n",
    "n1 = int(input(\"Entrez un entier : \"))\n",
    "n2 = int(input(\"Entrez un second entier : \"))\n",
    "\n",
    "print(n1,end='\\t')\n",
    "print(n2,end='\\t')\n",
    "\n",
    "for i in range(28):\n",
    "    suivant = (3*n1) + (n2//2)\n",
    "    print(suivant,end='\\t')\n",
    "    n1 = n2\n",
    "    n2 = suivant"
   ]
  },
  {
   "cell_type": "code",
   "execution_count": 30,
   "metadata": {},
   "outputs": [
    {
     "name": "stdout",
     "output_type": "stream",
     "text": [
      "Entrez une année : 0\n",
      "0 est une année bissextile !\n"
     ]
    }
   ],
   "source": [
    "#Exercice 7\n",
    "\n",
    "annee = int(input(\"Entrez une année(>= 0): \"))\n",
    "\n",
    "if annee >= 0:\n",
    "    if((annee%400 == 0) or ((annee%4 ==0) and (annee%100 != 0))):\n",
    "        print(annee,\"est une année bissextile !\")\n",
    "    else :\n",
    "        print(annee,\"n'est pas une année bissextile.\")\n",
    "        \n",
    "else :\n",
    "    print(\"Saisie invalide !\")"
   ]
  },
  {
   "cell_type": "code",
   "execution_count": 31,
   "metadata": {},
   "outputs": [
    {
     "name": "stdout",
     "output_type": "stream",
     "text": [
      "Entrez un entier naturel(> 0): 6\n",
      "Somme = 55\n"
     ]
    }
   ],
   "source": [
    "#Exercice 8\n",
    "# Question a)\n",
    "# \"For Loop Version\"\n",
    "\n",
    "n = int(input(\"Entrez un entier naturel(> 0): \"))\n",
    "somme = 0\n",
    "\n",
    "if n > 0 :\n",
    "    for i in range(n):\n",
    "        somme += i**2\n",
    "    print(\"Somme =\",somme)\n",
    "else :\n",
    "    print(\"Saisie invalide !\")"
   ]
  },
  {
   "cell_type": "code",
   "execution_count": 28,
   "metadata": {},
   "outputs": [
    {
     "name": "stdout",
     "output_type": "stream",
     "text": [
      "Entrez une entier naturel : 4\n",
      "Somme = 14\n"
     ]
    }
   ],
   "source": [
    "#Exercice 8\n",
    "# Question a)\n",
    "# \"While Loop Version\"\n",
    "\n",
    "n = int(input(\"Entrez un entier naturel(> 0): \"))\n",
    "somme, i = 0, 0\n",
    "\n",
    "if n > 0 :\n",
    "    while i < n :\n",
    "        somme += i**2\n",
    "        i += 1\n",
    "    print(\"Somme =\",somme)\n",
    "else :\n",
    "    print(\"Saisie invalide !\")"
   ]
  },
  {
   "cell_type": "code",
   "execution_count": 1,
   "metadata": {},
   "outputs": [
    {
     "name": "stdout",
     "output_type": "stream",
     "text": [
      "Entrez un entier naturel(> 0): 5\n",
      "Plus petit n = 2\n"
     ]
    }
   ],
   "source": [
    "#Exercice 8\n",
    "# Question b)\n",
    "# \"For Loop Version\"\n",
    "\n",
    "M = int(input(\"Entrez un entier naturel(> 0): \"))\n",
    "somme, n, temp = 0, 0, 0\n",
    "\n",
    "if M > 0 :\n",
    "    for n in range(1,M):\n",
    "        somme += n**2\n",
    "        if somme >= M:\n",
    "            temp = n\n",
    "            break\n",
    "    print(\"Plus petit n =\",temp)\n",
    "else :\n",
    "    print(\"Saisie invalide !\")"
   ]
  },
  {
   "cell_type": "code",
   "execution_count": 40,
   "metadata": {},
   "outputs": [
    {
     "name": "stdout",
     "output_type": "stream",
     "text": [
      "Entrez un entier naturel : 31\n",
      "Plus petit n = 5\n"
     ]
    }
   ],
   "source": [
    "#Exercice 8\n",
    "# Question b)\n",
    "# \"While Loop Version\"\n",
    "\n",
    "M = int(input(\"Entrez un entier naturel(> 0): \"))\n",
    "somme, n = 0, 0\n",
    "\n",
    "if M > 0 :\n",
    "    while somme < M:\n",
    "        n += 1\n",
    "        somme += n**2\n",
    "        \n",
    "    print(\"Plus petit n =\",n)\n",
    "else :\n",
    "    print(\"Saisie invalide !\")"
   ]
  },
  {
   "cell_type": "code",
   "execution_count": 46,
   "metadata": {},
   "outputs": [
    {
     "name": "stdout",
     "output_type": "stream",
     "text": [
      "Entrez un entier : 16\n",
      "1\t-1\t2\t-2\t4\t-4\t8\t-8\t16\t-16\t"
     ]
    }
   ],
   "source": [
    "#Exercice 9\n",
    "# Question a)\n",
    "\n",
    "n = int(input(\"Entrez un entier : \"))\n",
    "\n",
    "if(n > 0):\n",
    "    for i in range(1,n+1):\n",
    "        if(n%i == 0):\n",
    "            print(i,end=\"\\t\")\n",
    "            print(-i,end=\"\\t\")\n",
    "            \n",
    "elif(n < 0):\n",
    "    for i in range(-1,n-1,-1):\n",
    "        if(n%i == 0):\n",
    "            print(i,end=\"\\t\")\n",
    "            print(-i,end=\"\\t\")\n",
    "            \n",
    "else :\n",
    "    print(\"0 n'admet pas de diviseurs !\")"
   ]
  },
  {
   "cell_type": "code",
   "execution_count": 41,
   "metadata": {},
   "outputs": [
    {
     "name": "stdout",
     "output_type": "stream",
     "text": [
      "Entrez un entier naturel(> 1): 389\n",
      "389\t\n"
     ]
    }
   ],
   "source": [
    "#Exercice 9\n",
    "# Question b)\n",
    "\n",
    "n = int(input(\"Entrez un entier naturel(> 1): \"))\n",
    "cp = n\n",
    "\n",
    "if (n > 1):\n",
    "    while cp != 1:\n",
    "        for i in range(2,n+1):\n",
    "            if cp%i == 0:\n",
    "                print(i,end='\\t')\n",
    "                cp /= i\n",
    "                break\n",
    "    print()\n",
    "\n",
    "else :\n",
    "    print(\"Saisie invalide !\")"
   ]
  },
  {
   "cell_type": "code",
   "execution_count": 49,
   "metadata": {},
   "outputs": [
    {
     "name": "stdout",
     "output_type": "stream",
     "text": [
      "Entrez un nombre positif(entre 0 et 9) : 5\n",
      "Entrez une limite positive : 2\n",
      "Saisie invalide !\n"
     ]
    }
   ],
   "source": [
    "#Exercice 10\n",
    "\n",
    "n = int(input(\"Entrez un nombre positif(entre 0 et 9) : \"))\n",
    "N = int(input(\"Entrez une limite positive : \"))\n",
    "\n",
    "if ((n in range(10)) and (N > n)):\n",
    "    for i in range(1,N+1):\n",
    "        print(n,\"*\",i,\"=\",n*i)\n",
    "else :\n",
    "    print(\"Saisie invalide !\")"
   ]
  },
  {
   "cell_type": "code",
   "execution_count": 7,
   "metadata": {},
   "outputs": [
    {
     "name": "stdout",
     "output_type": "stream",
     "text": [
      "3\t6\t7\t9\t11\t12\t14\t15\t18\t21\t22\t24\t27\t28\t30\t33\t35\t36\t39\t"
     ]
    }
   ],
   "source": [
    "#Exercice 11\n",
    "\n",
    "for i in range(1,40):\n",
    "    if((i%3 == 0) or (i%7 == 0) or (i%11 == 0)):\n",
    "        print(i,end=\"\\t\")"
   ]
  },
  {
   "cell_type": "code",
   "execution_count": 9,
   "metadata": {},
   "outputs": [
    {
     "name": "stdout",
     "output_type": "stream",
     "text": [
      "Entrez un entier flottant : 456.345\n",
      "456\n"
     ]
    }
   ],
   "source": [
    "#Exercice 12\n",
    "\n",
    "n = float(input(\"Entrez un entier flottant : \"))\n",
    "\n",
    "if n > 0:\n",
    "    f = int(n)\n",
    "    print(f)\n",
    "elif n < 0:\n",
    "    f = int(n) - 1\n",
    "    print(f)\n",
    "else :\n",
    "    printf(f)"
   ]
  },
  {
   "cell_type": "code",
   "execution_count": 17,
   "metadata": {},
   "outputs": [
    {
     "name": "stdout",
     "output_type": "stream",
     "text": [
      "Abscisse X = 9\n",
      "Ordonnée Y = 9\n",
      "--------------------------------------------\n",
      "( 9.0 , 9.0 ) est dans le premier cadran.\n",
      "--------------------------------------------\n",
      "Continuer ?(Y/N) Y\n",
      "Abscisse X = 0\n",
      "Ordonnée Y = 7\n",
      "--------------------------------------------\n",
      "( 0.0 , 7.0 ) est sur l'axe des ordonnées.\n",
      "--------------------------------------------\n",
      "Continuer ?(Y/N) Y\n",
      "Abscisse X = 0\n",
      "Ordonnée Y = 0\n",
      "--------------------------------------------\n",
      "( 0.0 , 0.0 ) est sur l'origine du repère.\n",
      "--------------------------------------------\n",
      "Continuer ?(Y/N) N\n"
     ]
    }
   ],
   "source": [
    "#Exercice 13\n",
    "\n",
    "def position():\n",
    "    \n",
    "    avis = \"Y\"\n",
    "\n",
    "    while(avis[0] == \"Y\"):\n",
    "        x = float(input(\"Abscisse X = \"))\n",
    "        y = float(input(\"Ordonnée Y = \"))\n",
    "        \n",
    "        if(x > 0):\n",
    "            if(y > 0):\n",
    "                print(\"--------------------------------------------\")\n",
    "                print(\"(\",x,\",\",y,\") est dans le premier cadran.\")\n",
    "                print(\"--------------------------------------------\")\n",
    "                \n",
    "            elif(y < 0):\n",
    "                print(\"--------------------------------------------\")\n",
    "                print(\"(\",x,\",\",y,\") est dans le quatrième cadran.\")\n",
    "                print(\"--------------------------------------------\")\n",
    "                \n",
    "            else :\n",
    "                print(\"--------------------------------------------\")\n",
    "                print(\"(\",x,\",\",y,\") est sur l'axe des abscisses.\")\n",
    "                print(\"--------------------------------------------\")\n",
    "\n",
    "        elif(x < 0):\n",
    "            if(y > 0):\n",
    "                print(\"--------------------------------------------\")\n",
    "                print(\"(\",x,\",\",y,\") est dans le deuxième cadran.\")\n",
    "                print(\"--------------------------------------------\")\n",
    "                \n",
    "            elif(y < 0):\n",
    "                print(\"--------------------------------------------\")\n",
    "                print(\"(\",x,\",\",y,\") est dans le troisième cadran.\")\n",
    "                print(\"--------------------------------------------\")\n",
    "                \n",
    "            else :\n",
    "                print(\"--------------------------------------------\")\n",
    "                print(\"(\",x,\",\",y,\") est sur l'axe des abscisses.\")\n",
    "                print(\"--------------------------------------------\")\n",
    "\n",
    "        else :\n",
    "            if(y != 0):\n",
    "                print(\"--------------------------------------------\")\n",
    "                print(\"(\",x,\",\",y,\") est sur l'axe des ordonnées.\")\n",
    "                print(\"--------------------------------------------\")\n",
    "                \n",
    "            else :\n",
    "                print(\"--------------------------------------------\")\n",
    "                print(\"(\",x,\",\",y,\") est sur l'origine du repère.\")\n",
    "                print(\"--------------------------------------------\")\n",
    "                \n",
    "        avis = (input(\"Continuer ?(Y/N) \")).split(\" \")\n",
    "            \n",
    "\n",
    "position()"
   ]
  },
  {
   "cell_type": "code",
   "execution_count": 24,
   "metadata": {},
   "outputs": [
    {
     "name": "stdout",
     "output_type": "stream",
     "text": [
      "Nombre(entre 0 et 9, les deux compris) : 10\n",
      "Nombre(entre 0 et 9, les deux compris) : 23\n",
      "Nombre(entre 0 et 9, les deux compris) : 4\n",
      "Nombre(entre 0 et 255, les deux compris) : 16789\n",
      "Nombre(entre 0 et 255, les deux compris) : 45677\n",
      "Nombre(entre 0 et 255, les deux compris) : 10\n",
      "0\t4\t8\t\n",
      "Continuer ?(Y/N) N\n"
     ]
    }
   ],
   "source": [
    "#Exercice 14\n",
    "\n",
    "def multiple():\n",
    "    \n",
    "    avis = \"Y\"\n",
    "    \n",
    "    while(avis[0] == \"Y\"):\n",
    "        \n",
    "        x = int(input(\"Nombre(entre 0 et 9, les deux compris) : \"))\n",
    "        while x not in range(10):\n",
    "            x = int(input(\"Nombre(entre 0 et 9, les deux compris) : \"))\n",
    "\n",
    "        max = int(input(\"Nombre(entre 0 et 255, les deux compris) : \"))\n",
    "        while max not in range(256):\n",
    "            max = int(input(\"Nombre(entre 0 et 255, les deux compris) : \"))\n",
    "\n",
    "        for i in range(max):\n",
    "            if(i%x == 0):\n",
    "                print(i,end='\\t')\n",
    "        print()\n",
    "        \n",
    "        avis = (input(\"Continuer ?(Y/N) \")).split(\" \")\n",
    "        \n",
    "multiple()"
   ]
  },
  {
   "cell_type": "code",
   "execution_count": null,
   "metadata": {},
   "outputs": [],
   "source": []
  }
 ],
 "metadata": {
  "kernelspec": {
   "display_name": "Python 3",
   "language": "python",
   "name": "python3"
  },
  "language_info": {
   "codemirror_mode": {
    "name": "ipython",
    "version": 3
   },
   "file_extension": ".py",
   "mimetype": "text/x-python",
   "name": "python",
   "nbconvert_exporter": "python",
   "pygments_lexer": "ipython3",
   "version": "3.8.10"
  }
 },
 "nbformat": 4,
 "nbformat_minor": 4
}
