{
 "cells": [
  {
   "cell_type": "markdown",
   "metadata": {
    "id": "22f02e1a"
   },
   "source": [
    "\n",
    "### <center> <b> <span style=\"color:blue;\"> Travaux Pratiques: Variables, Types & Opérations </span> </b></center>"
   ]
  },
  {
   "cell_type": "markdown",
   "metadata": {
    "id": "ddc667e7"
   },
   "source": [
    "**Exercise 00:**  \n",
    ">\n",
    "\n",
    "  \n",
    "> 1. Déclarez une variable `prenom` et attribuez-lui une valeur.\n",
    "  > 2. Déclarez une variable `nom` et attribuez-lui une valeur.\n",
    "  > 3. Déclarez une variable `prenom_nom` et attribuez-lui une valeur.\n",
    "  > 4. Déclarez une variable `pays` et attribuez-lui une valeur.\n",
    "  > 5. Déclarez une variable `ville` et attribuez-lui une valeur.\n",
    "  > 6. Déclarez une variable `age` et attribuez-lui une valeur.\n",
    "  > 7. Déclarez une variable `annee` et attribuez-lui une valeur.\n",
    "  > 8. Déclarez une variable `est_marie` et attribuez-lui une valeur.\n",
    "  > 9. Déclarez une variable `est_vrai` et attribuez-lui une valeur.\n",
    "\n",
    "> Pour chacune des variables ci-dessus, affichez la valeur qu'elle contient à l'aide de la fonction `print()`.\n",
    "\n"
   ]
  },
  {
   "cell_type": "code",
   "execution_count": 22,
   "metadata": {
    "id": "ebd3951d"
   },
   "outputs": [
    {
     "name": "stdout",
     "output_type": "stream",
     "text": [
      "Thomas\n",
      "Dupont\n",
      "Dupont Thomas\n",
      "Bénin\n",
      "Dangbo\n",
      "17\n",
      "2000\n",
      "False\n",
      "True\n"
     ]
    }
   ],
   "source": [
    "prenom = \"Thomas\"\n",
    "nom = \"Dupont\"\n",
    "nom_prenom = nom+' '+ prenom\n",
    "pays = \"Bénin\"\n",
    "ville = \"Dangbo\"\n",
    "age = 17\n",
    "annee = 2000\n",
    "est_marie = False\n",
    "est_vrai = True\n",
    "\n",
    "print(prenom)\n",
    "print(nom)\n",
    "print(nom_prenom)\n",
    "print(pays)\n",
    "print(ville)\n",
    "print(age)\n",
    "print(annee)\n",
    "print(est_marie)\n",
    "print(est_vrai)"
   ]
  },
  {
   "cell_type": "markdown",
   "metadata": {
    "id": "85eb4f96"
   },
   "source": [
    "**Exercise 01:** \n",
    "> Vérifiez le type de données de toutes vos variables à l'aide de la fonction intégrée `type()`.**\n"
   ]
  },
  {
   "cell_type": "code",
   "execution_count": 1,
   "metadata": {
    "id": "c5c47124"
   },
   "outputs": [
    {
     "data": {
      "text/plain": [
       "bool"
      ]
     },
     "execution_count": 1,
     "metadata": {},
     "output_type": "execute_result"
    }
   ],
   "source": [
    "prenom = \"Thomas\"\n",
    "nom = \"Dupont\"\n",
    "nom_prenom = nom+' '+ prenom\n",
    "pays = \"Bénin\"\n",
    "ville = \"Dangbo\"\n",
    "age = 17\n",
    "annee = 2000\n",
    "est_marie = False\n",
    "est_vrai = True\n",
    "\n",
    "print(type(prenom))\n",
    "print(type(nom))\n",
    "print(type(nom_prenom))\n",
    "print(type(ville))\n",
    "print(type(age))\n",
    "print(type(annee))\n",
    "print(type(est_marie))\n",
    "print(type(est_vrai))"
   ]
  },
  {
   "cell_type": "markdown",
   "metadata": {
    "id": "76cdc19b"
   },
   "source": [
    "**Exercise 02:** \n",
    "> Calculez la valeur de $y$ ($y = x^2 + 6x + 9$). Essayez d'utiliser différentes valeurs de $x$ et déterminez à quelle valeur de $x$ $y$ sera égal à 0.**"
   ]
  },
  {
   "cell_type": "code",
   "execution_count": 6,
   "metadata": {
    "id": "fb4df11a"
   },
   "outputs": [
    {
     "name": "stdout",
     "output_type": "stream",
     "text": [
      "64\n",
      "16\n",
      "0\n",
      "Ainsi y vaut 0 pour x = -3\n"
     ]
    }
   ],
   "source": [
    "x = 5\n",
    "y = x**2 +6*x +9\n",
    "print(y)\n",
    "\n",
    "x = 1\n",
    "y = x**2 +6*x +9\n",
    "print(y)\n",
    "\n",
    "x = -3\n",
    "y = x**2 +6*x +9\n",
    "print(y)\n",
    "print(\"Ainsi y vaut 0 pour x = -3\")"
   ]
  },
  {
   "cell_type": "markdown",
   "metadata": {
    "id": "8f40e3ab"
   },
   "source": [
    "**Exercise 03:** \n",
    ">    \n",
    "\n",
    "     1. Déclarez votre âge sous forme de variable entière\n",
    "     2. Déclarez votre taille en tant que variable flottante\n",
    "     3. Déclarez une variable qui stocke la base et la hauteur d'un triangle. Calculez l'aire de ce triangle (aire = 0,5 x b x h)."
   ]
  },
  {
   "cell_type": "code",
   "execution_count": 19,
   "metadata": {
    "id": "rpAlhgG_9A5z"
   },
   "outputs": [
    {
     "name": "stdout",
     "output_type": "stream",
     "text": [
      "Entrez la base : 10\n",
      "Entrez la hauteur : 10\n",
      "Hauteur =  50.0\n"
     ]
    }
   ],
   "source": [
    "age = 20\n",
    "\n",
    "taille = 1.75\n",
    "\n",
    "base = input(\"Entrez la base : \")\n",
    "hauteur = input(\"Entrez la hauteur : \")\n",
    "aire = 0.5*float(base)*float(hauteur)\n",
    "print(\"Aire = \",aire)"
   ]
  },
  {
   "cell_type": "markdown",
   "metadata": {
    "id": "9957391d"
   },
   "source": [
    "## *Astuce : recevoir les entrées de l'utilisateur *\n",
    "**Pour recevoir une entrée de l'utilisateur, nous utilisons `input()`.**.\n",
    "\n",
    "**Exemple**\n",
    "Recevez deux nombres en entrée de l'utilisateur et calculez leur puissance :\n",
    "```python\n",
    "base = input(\"Entrez une base : \")\n",
    "exposant = input(\"Entrez un exposant : \")\n",
    "resultat = float(base) ** float(exposant)\n",
    "print(f \"{base} à la puissance {exposant} = {résultat}\")\n",
    "```"
   ]
  },
  {
   "cell_type": "markdown",
   "metadata": {
    "id": "0fb34716"
   },
   "source": [
    "**Exercise 04:** \n",
    "> **Write a small code that asks the user to enter the side $a$, the side $b$ and the side $c$ of a triangle. Calculate the perimeter of the triangle (perimeter = a + b + c).**"
   ]
  },
  {
   "cell_type": "code",
   "execution_count": 7,
   "metadata": {
    "id": "6618f067"
   },
   "outputs": [
    {
     "name": "stdout",
     "output_type": "stream",
     "text": [
      "Entrez la longueur du coté a : 1\n",
      "Entrez la longueur du coté b : 2\n",
      "Entrez la longueur du coté c : 3\n",
      "Le périmètre vaut  6.0\n"
     ]
    }
   ],
   "source": [
    "a = input(\"Entrez la longueur du coté a : \")\n",
    "b = input(\"Entrez la longueur du coté b : \")\n",
    "c = input(\"Entrez la longueur du coté c : \")\n",
    "\n",
    "perimetre = float(a) + float(b) + float(c)\n",
    "print(\"Le périmètre vaut \",perimetre)"
   ]
  },
  {
   "cell_type": "markdown",
   "metadata": {
    "id": "e482c15c"
   },
   "source": [
    "**Exercise 05:** \n",
    "> **Obtenez la longueur et la largeur d'un rectangle à l'aide de l'invite. Calculer sa `superficie` et son `perimetre`.**"
   ]
  },
  {
   "cell_type": "code",
   "execution_count": 8,
   "metadata": {
    "id": "286cec4c"
   },
   "outputs": [
    {
     "name": "stdout",
     "output_type": "stream",
     "text": [
      "Entrez la longueur du rectangle : 10\n",
      "Entrez la largeur du rectangle : 12\n",
      "Périmètre =  44.0\n",
      "Superficie =  120.0\n"
     ]
    }
   ],
   "source": [
    "a = float(input(\"Entrez la longueur du rectangle : \"))\n",
    "b = float(input(\"Entrez la largeur du rectangle : \"))\n",
    "\n",
    "perimetre = (a+b)*2\n",
    "superficie = a*b\n",
    "\n",
    "print(\"Périmètre = \",perimetre)\n",
    "print(\"Superficie = \",superficie)"
   ]
  },
  {
   "cell_type": "markdown",
   "metadata": {
    "id": "cf15844c"
   },
   "source": [
    "**Exercice 06:** \n",
    "> **Obtenez le rayon d'un cercle en utilisant l'invite. Calculez l'aire (aire = pi x r x r) et la circonférence (c = 2 x pi x r) où pi = 3,14.**"
   ]
  },
  {
   "cell_type": "code",
   "execution_count": 27,
   "metadata": {
    "id": "ee0ee85e"
   },
   "outputs": [
    {
     "name": "stdout",
     "output_type": "stream",
     "text": [
      "Entrez le rayon du cercle : 10\n",
      "Aire =  314.0\n",
      "Circonférence =  62.800000000000004\n"
     ]
    }
   ],
   "source": [
    "r = float(input(\"Entrez le rayon du cercle : \"))\n",
    "pi = 3.14\n",
    "aire = pi*(r**2)\n",
    "circonference = 2*r*pi\n",
    "print(\"Aire = \",aire)\n",
    "print(\"Circonférence = \",circonference)"
   ]
  },
  {
   "cell_type": "markdown",
   "metadata": {
    "id": "d9dec37a"
   },
   "source": [
    "**Exercice 07:**\n",
    "> **Calculez la pente, l'ordonnée à l'origine en x et l'ordonnée à l'origine en $y$ de $y = 2x -2$.**"
   ]
  },
  {
   "cell_type": "code",
   "execution_count": 36,
   "metadata": {
    "id": "203e449c"
   },
   "outputs": [
    {
     "name": "stdout",
     "output_type": "stream",
     "text": [
      "Pour x = 0, y = -2\n",
      "Pente =  2.0\n"
     ]
    }
   ],
   "source": [
    "x1 = 0\n",
    "y1 = 2*x1 - 2\n",
    "\n",
    "print(\"Pour x = 0, y = -2\")\n",
    "\n",
    "x2 = 1\n",
    "y2 = 2*x2 - 2\n",
    "\n",
    "pente = (y2-y1)/(x2-x1)\n",
    "print(\"Pente = \",pente)"
   ]
  },
  {
   "cell_type": "markdown",
   "metadata": {
    "id": "2f74d685"
   },
   "source": [
    "**Exercice 08:** \n",
    "> **Rédigez un script qui demande à l'utilisateur d'entrer les heures et le taux horaire. Calculez la rémunération de la personne ?**"
   ]
  },
  {
   "cell_type": "code",
   "execution_count": 29,
   "metadata": {
    "id": "7cff5a0a"
   },
   "outputs": [
    {
     "name": "stdout",
     "output_type": "stream",
     "text": [
      "Entrez les heures : 5\n",
      "Entrez le taux horaire : 100\n",
      "Rémunération =  500.0\n"
     ]
    }
   ],
   "source": [
    "heure = int(input(\"Entrez les heures : \"))\n",
    "taux = float(input(\"Entrez le taux horaire : \"))\n",
    "\n",
    "remuneration = heure * taux\n",
    "print(\"Rémunération = \",remuneration)"
   ]
  },
  {
   "cell_type": "markdown",
   "metadata": {
    "id": "6ddd662c"
   },
   "source": [
    "**Exercice 09:** \n",
    "> **Écrivez un script qui demande à l'utilisateur d'entrer le nombre d'années. Calculez le nombre de secondes qu'une personne peut vivre. Supposons qu'une personne puisse vivre cent ans.**"
   ]
  },
  {
   "cell_type": "code",
   "execution_count": 39,
   "metadata": {
    "id": "44c2a63c"
   },
   "outputs": [
    {
     "name": "stdout",
     "output_type": "stream",
     "text": [
      "Entrez le nombre d'années : 89\n",
      "89  années valent  2806704000  secondes\n"
     ]
    }
   ],
   "source": [
    "nombre = int(input(\"Entrez le nombre d'années : \"))\n",
    "\n",
    "seconde = 31536000*nombre\n",
    "\n",
    "print(nombre,\" années valent \",seconde,\" secondes\")\n"
   ]
  },
  {
   "cell_type": "markdown",
   "metadata": {
    "id": "9b253387"
   },
   "source": [
    "**Exercice 10:** \n",
    "> **Écrivez un script Python qui affiche le tableau suivant**\n",
    "\n",
    "    1 1 1 1 1\n",
    "    \n",
    "    2 1 2 4 8\n",
    "    \n",
    "    3 1 3 9 27\n",
    "    \n",
    "    4 1 4 16 64\n",
    "    \n",
    "    5 1 5 25 125"
   ]
  },
  {
   "cell_type": "code",
   "execution_count": 49,
   "metadata": {
    "id": "aa2dae84"
   },
   "outputs": [
    {
     "name": "stdout",
     "output_type": "stream",
     "text": [
      "1 1 1 1 1\n",
      "\n",
      "2 1 2 4 8\n",
      "\n",
      "3 1 3 9 27\n",
      "\n",
      "4 1 4 16 64\n",
      "\n",
      "5 1 5 25 125\n"
     ]
    }
   ],
   "source": [
    "print(\"1 1 1 1 1\")\n",
    "print()\n",
    "print(\"2 1 2 4 8\")\n",
    "print()\n",
    "print(\"3 1 3 9 27\")\n",
    "print()\n",
    "print(\"4 1 4 16 64\")\n",
    "print()\n",
    "print(\"5 1 5 25 125\")"
   ]
  },
  {
   "cell_type": "markdown",
   "metadata": {
    "id": "953e7d8c"
   },
   "source": [
    "**Exercise 11:** \n",
    ">**Attribuez aux variables `temps` et `distance` les valeurs $6.892$ et $19.7$. Calculer et afficher la valeur de la vitesse. Améliorer l'affichage en imposant un chiffre après la virgule.**"
   ]
  },
  {
   "cell_type": "code",
   "execution_count": 10,
   "metadata": {
    "id": "6d787289"
   },
   "outputs": [
    {
     "name": "stdout",
     "output_type": "stream",
     "text": [
      "2.9\n"
     ]
    }
   ],
   "source": [
    "temps = 6.892\n",
    "distance = 19.7\n",
    "vitesse = distance/temps\n",
    "\n",
    "print(\"{0:.1f}\".format(vitesse))"
   ]
  },
  {
   "cell_type": "markdown",
   "metadata": {
    "id": "2d0f1ff9"
   },
   "source": [
    "**Exercice 12:** \n",
    "> **Écrire un programme qui, à partir de la saisie d’un rayon et d’une hauteur, calcule levolume d’un cône droit.**"
   ]
  },
  {
   "cell_type": "code",
   "execution_count": 47,
   "metadata": {
    "id": "969f5f68"
   },
   "outputs": [
    {
     "name": "stdout",
     "output_type": "stream",
     "text": [
      "Entrez le rayon : 10\n",
      "Entrez la hauteur : 5\n",
      "523.3333333333334\n"
     ]
    }
   ],
   "source": [
    "rayon = float(input(\"Entrez le rayon : \"))\n",
    "hauteur = float(input(\"Entrez la hauteur : \"))\n",
    "\n",
    "pi = 3.14\n",
    "volume = (pi*(rayon**2)*hauteur)/3\n",
    "print(\"Volume = \"volume)"
   ]
  },
  {
   "cell_type": "markdown",
   "metadata": {
    "id": "e9b3ce2a"
   },
   "source": [
    "**Exercise 13:** \n",
    "> **L'utilisateur donne un entier positif et le programme annonce combien de fois de suite cet entier est divisible par 2.**"
   ]
  },
  {
   "cell_type": "code",
   "execution_count": 2,
   "metadata": {
    "id": "5c8fea9a"
   },
   "outputs": [
    {
     "name": "stdout",
     "output_type": "stream",
     "text": [
      "Entrez un entier positif10\n",
      "10 est divisible 3 fois de suite par 2\n"
     ]
    }
   ],
   "source": [
    "n = int(input(\"Entrez un entier positif\")) \n",
    "b = bin(n)\n",
    "i = len(b)-3\n",
    "print(n,\"est divisible\",i,\"fois de suite par 2\")"
   ]
  },
  {
   "cell_type": "markdown",
   "metadata": {
    "id": "0485aed6"
   },
   "source": [
    "**Exercise 14:** \n",
    ">**L'utilisateur donne un nombre entier entre 2 et 12, le programme donne le nombre de façons de le faire en lançant deux dés.**"
   ]
  },
  {
   "cell_type": "code",
   "execution_count": null,
   "metadata": {
    "id": "31f48a15"
   },
   "outputs": [],
   "source": []
  },
  {
   "cell_type": "markdown",
   "metadata": {
    "id": "cead0c8f"
   },
   "source": [
    "**Exercice 15:** \n",
    "> **Utilisez la fonction d'entrée intégrée `input()` pour obtenir le `_prénom_`, le `_nom_`, le `_pays_d_origine` et l'`_age_` d'un utilisateur et stockez la valeur dans les noms des variables correspondantes.**"
   ]
  },
  {
   "cell_type": "code",
   "execution_count": null,
   "metadata": {
    "id": "0a2694a9"
   },
   "outputs": [],
   "source": [
    "prenom = input(\"Entrez votre prénom : \")\n",
    "nom = input(\"Entrez votre nom : \")\n",
    "pays_d_origine = input(\"Entrez votre pays d'origine : \")\n",
    "age = int(input(\"Entrez votre age : \"))"
   ]
  },
  {
   "cell_type": "markdown",
   "metadata": {
    "id": "33240a56"
   },
   "source": [
    "**Exercice 16:** \n",
    "\n",
    "**Déclarer $5$ comme `num_one` et $4$ comme `num_two`**\n",
    "\n",
    "   1. Additionner `num_one` et `num_two` et affecter la valeur à une variable `totale`.\n",
    "   2. Soustraire `num_two` de `num_one` et affecter la valeur à une variable `diff`.\n",
    "   3. Multipliez le `num_one` et le `num_two` et attribuez la valeur à une variable `produit`.\n",
    "   4. Divisez le `num_one` par le `num_two` et attribuez la valeur à une variable `division`.\n",
    "   5. Calculez `num_one` à la puissance de `num_two` et attribuez la valeur à une variable `exp`."
   ]
  },
  {
   "cell_type": "code",
   "execution_count": null,
   "metadata": {
    "id": "c2f3e814"
   },
   "outputs": [],
   "source": [
    "num_one = 5\n",
    "num_two = 4\n",
    "totale = num_one + num_two\n",
    "diff = num_one - num_two\n",
    "produit = num_one*num_two\n",
    "division = num_one/num_two\n",
    "exp = num_one**num_two"
   ]
  },
  {
   "cell_type": "markdown",
   "metadata": {
    "id": "80763237"
   },
   "source": [
    "<center> <b> <span style=\"color:orange;\"> 🎉 FÉLICITATIONS! 🎉 </span> </b></center>"
   ]
  }
 ],
 "metadata": {
  "colab": {
   "collapsed_sections": [],
   "name": "In2Py_TP_01.ipynb",
   "provenance": []
  },
  "kernelspec": {
   "display_name": "Python 3",
   "language": "python",
   "name": "python3"
  },
  "language_info": {
   "codemirror_mode": {
    "name": "ipython",
    "version": 3
   },
   "file_extension": ".py",
   "mimetype": "text/x-python",
   "name": "python",
   "nbconvert_exporter": "python",
   "pygments_lexer": "ipython3",
   "version": "3.8.10"
  }
 },
 "nbformat": 4,
 "nbformat_minor": 5
}
