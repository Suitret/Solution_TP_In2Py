{
 "cells": [
  {
   "cell_type": "markdown",
   "metadata": {},
   "source": [
    "<div class=\"alert alert-block alert-info\" style=\"background-color: #FFFFFF; border: 0px; -moz-border-radius: 10px; -webkit-border-radius: 10px;\">\n",
    "<br/><br/>\n",
    "<h3 style=\"font-size: 35px; color: black; align: center;\"><center>\n",
    "<img src=\"images/index.png\" width=\"500px\" /><br/><br/>\n",
    "Le Contrôle de Version avec Git  \n",
    " </center></h3>\n",
    "\n",
    "</div>"
   ]
  },
  {
   "cell_type": "markdown",
   "metadata": {},
   "source": [
    "\n",
    "<left> <b> <span style=\"color:brown; font-size: 30px;\">  Qu'est-ce que le contrôle de version ? </span> </b></left>\n",
    "\n",
    "\n",
    "Le contrôle de version, également appelé contrôle de source, désigne la pratique consistant à suivre et à gérer les changements apportés au code d'un logiciel. Les systèmes de contrôle de version sont des outils logiciels qui permettent aux équipes de développement de gérer les changements apportés au code source au fil du temps. Avec l'accélération des environnements de développement, les systèmes de contrôle de version aident les équipes de développement à travailler plus rapidement et plus intelligemment. Ils sont particulièrement utiles pour les équipes DevOps, car ils leur permettent de réduire le temps de développement et d'assurer le succès des déploiements.\n",
    "\n",
    "Le contrôle de version aide les équipes en suivant chaque changement individuel de chaque contributeur et en aidant à prévenir les conflits entre les tâches concomitantes. Les changements apportés à une partie du logiciel peuvent être incompatibles avec ceux apportés par un autre développeur travaillant en même temps. Ce type de problème doit être identifié et résolu de manière ordonnée sans bloquer le travail du reste de l'équipe.\n",
    "\n",
    "Les équipes de développement qui n'utilisent aucune forme de contrôle de version se heurtent souvent à des problèmes tels que le fait de ne pas savoir quels changements ont été mis à la disposition des utilisateurs ou l'apport de changements incompatibles entre deux éléments indépendants, qui doivent alors être minutieusement démêlés et retravaillés. Le contrôle de version est une solution à ces problèmes.\n",
    "\n",
    "Les systèmes de contrôle de version (VCS) ont connu de grandes améliorations au cours des dernières décennies, et certains sont meilleurs que d'autres. Les VCS sont parfois connus sous le nom d'outils de gestion du code source (SCM) ou de systèmes de contrôle des révisions (RCS). \n",
    "\n",
    "`Git est l'un des outils VCS les plus populaires utilisés aujourd'hui. Git est un VCS distribué, une catégorie connue sous le nom de DVCS. Comme beaucoup des systèmes VCS les plus populaires d'aujourd'hui, Git est gratuit et open source.`\n",
    "\n",
    "<br/><br/>\n",
    "<left> <b> <span style=\"color:brown; font-size: 30px;\">  Attentes d'un VCS </span> </b></left>\n",
    "\n",
    "\n",
    "- Un historique complet des changements à long terme de chaque fichier. Autrement dit, le moindre changement effectué par de nombreuses personnes au fil des ans.\n",
    "\n",
    "- Branching et merges. Le fait que les membres d'une équipe travaillent simultanément est une évidence, mais il peut être intéressant pour les personnes autonomes de pouvoir travailler sur des flux de changements indépendants. La création d'une « branche » dans des outils VCS permet de garder plusieurs flux de travail indépendants les uns des autres, tout en offrant la possibilité de merger ces tâches, ce qui permet aux développeurs de vérifier que les changements sur les différentes branches n'entrent pas en conflit. \n",
    "\n",
    "- Traçabilité. Pouvoir retracer chaque changement apporté au logiciel et le connecter à des logiciels de gestion de projet et de suivi des bugs comme Jira, et être capable d'annoter chaque changement avec un message décrivant son but peut contribuer entre autres à l'analyse des causes profondes et à d'autres analyses forensiques. \n",
    "\n",
    "<br/><br/>\n",
    "<left> <b> <span style=\"color:brown; font-size: 30px;\">  Installation de Git </span> </b></left><br/>\n",
    "\n",
    "\n",
    "- ## Git pour Mac <br/>\n",
    "\n",
    "    - Téléchargez la dernière version de [Git for Mac installer](https://sourceforge.net/projects/git-osx-installer/files/) (programme d'installation Git pour Mac).\n",
    "\n",
    "    - Suivez les invites pour installer Git.\n",
    "\n",
    "    - Ouvrez un terminal et vérifiez que l'installation a réussi en saisissant git --version :\n",
    "\n"
   ]
  },
  {
   "cell_type": "code",
   "execution_count": 2,
   "metadata": {},
   "outputs": [],
   "source": [
    "#Terminal\n",
    "\n",
    "$ git --version"
   ]
  },
  {
   "cell_type": "markdown",
   "metadata": {},
   "source": [
    "\n",
    "- Configurez votre nom d'utilisateur et votre adresse e-mail Git à l'aide des commandes suivantes, en remplaçant le nom d'Emma par le vôtre. Ces informations seront associées à tous les commits que vous créez :"
   ]
  },
  {
   "cell_type": "code",
   "execution_count": null,
   "metadata": {},
   "outputs": [],
   "source": [
    "#Terminal\n",
    "\n",
    "$ git config --global user.name \"Emma Paris\"\n",
    "\n",
    "$ git config --global user.email \"eparis@atlassian.com\""
   ]
  },
  {
   "cell_type": "markdown",
   "metadata": {},
   "source": [
    "- ## Git pour Windows <br/>\n",
    "\n",
    "    - Téléchargez la dernière version de [Git for Windows installer](https://git-for-windows.github.io/) (programme d'installation Git pour Windows).\n",
    "    \n",
    "    - Après avoir lancé le programme d'installation, vous devriez voir l'écran de l'assistant `Git Setup`. Suivez les invites `Next` (Suivant) et `Finish` (Terminer) pour terminer l'installation. Les options par défaut sont assez adaptées à la plupart des utilisateurs\n",
    "    \n",
    "    - Ouvrez une invite de commande (ou Git Bash si, durant l'installation, vous avez choisi de ne pas utiliser Git à partir de l'invite de commande Windows).\n",
    "\n",
    "    - Exécutez les commandes suivantes pour configurer votre nom d'utilisateur et votre adresse e-mail Git, en remplaçant le nom d'Emma par le vôtre. Ces informations seront associées à tous les commits que vous créez :"
   ]
  },
  {
   "cell_type": "code",
   "execution_count": null,
   "metadata": {},
   "outputs": [],
   "source": [
    "#Terminal\n",
    "\n",
    "$ git config --global user.name \"Emma Paris\" $ git config --global user.email \"eparis@atlassian.com\""
   ]
  },
  {
   "cell_type": "markdown",
   "metadata": {},
   "source": [
    "- Facultatif : installez l'[application auxiliaire d'identification Git sur Windows](https://github.com/Microsoft/Git-Credential-Manager-for-Windows)"
   ]
  },
  {
   "cell_type": "markdown",
   "metadata": {},
   "source": [
    "- ## Git pour Linux <br/>\n",
    "\n",
    "    - Dans votre invite shell, installez Git via apt-get :"
   ]
  },
  {
   "cell_type": "code",
   "execution_count": null,
   "metadata": {},
   "outputs": [],
   "source": [
    "#Terminal\n",
    "\n",
    "$ sudo apt-get update\n",
    "\n",
    "$ sudo apt-get install git"
   ]
  },
  {
   "cell_type": "markdown",
   "metadata": {},
   "source": [
    "- Pour vérifier la réussite de l'installation, saisissez git --version :"
   ]
  },
  {
   "cell_type": "code",
   "execution_count": null,
   "metadata": {},
   "outputs": [],
   "source": [
    "#Terminal\n",
    "\n",
    "$ git --version"
   ]
  },
  {
   "cell_type": "markdown",
   "metadata": {},
   "source": [
    "- Configurez votre nom d'utilisateur et votre adresse e-mail Git à l'aide des commandes suivantes, en remplaçant le nom d'Emma par le vôtre. Ces informations seront associées à tous les commits que vous créez :"
   ]
  },
  {
   "cell_type": "code",
   "execution_count": null,
   "metadata": {},
   "outputs": [],
   "source": [
    "#Terminal\n",
    "\n",
    "$ git config --global user.name \"Emma Paris\"\n",
    "\n",
    "$ git config --global user.email \"eparis@atlassian.com\""
   ]
  },
  {
   "cell_type": "markdown",
   "metadata": {},
   "source": [
    "<br/>\n",
    "<left> <b> <span style=\"color:brown; font-size: 30px;\">  Créer une nouvelle base de données Git  </span> </b></left><br/>\n",
    "\n",
    "Pour suivre les modifications au sein d'un dossier de projet, il faut d'abord avoir un dossier de projet. Il peut s'agir d'un dossier existant dans lequel vous travaillez déjà et dans lequel vous ajoutez Git, ou bien d'un tout nouveau projet pour lequel vous allez utiliser Git dès le départ.\n",
    "\n",
    "Créons donc un dossier intitulé `notre-projet` et entrons dans ce répertoire à l'aide de la commande `cd`"
   ]
  },
  {
   "cell_type": "code",
   "execution_count": null,
   "metadata": {},
   "outputs": [],
   "source": [
    "#Terminal\n",
    "\n",
    "$ mkdir notre-projet\n",
    "\n",
    "$ cd notre-projet"
   ]
  },
  {
   "cell_type": "markdown",
   "metadata": {},
   "source": [
    "Nous allons initialiser un nouveau repository Git dans ce dossier de projet à l'aide de la commande `git init`"
   ]
  },
  {
   "cell_type": "code",
   "execution_count": null,
   "metadata": {},
   "outputs": [],
   "source": [
    "#Terminal\n",
    "\n",
    "$ git init\n",
    "\n",
    "(master) $"
   ]
  },
  {
   "cell_type": "markdown",
   "metadata": {},
   "source": [
    "Voilà un tout nouveau "
   ]
  },
  {
   "cell_type": "code",
   "execution_count": null,
   "metadata": {},
   "outputs": [],
   "source": []
  },
  {
   "cell_type": "code",
   "execution_count": null,
   "metadata": {},
   "outputs": [],
   "source": []
  },
  {
   "cell_type": "code",
   "execution_count": null,
   "metadata": {},
   "outputs": [],
   "source": []
  },
  {
   "cell_type": "code",
   "execution_count": null,
   "metadata": {},
   "outputs": [],
   "source": []
  }
 ],
 "metadata": {
  "kernelspec": {
   "display_name": "Python 3",
   "language": "python",
   "name": "python3"
  },
  "language_info": {
   "codemirror_mode": {
    "name": "ipython",
    "version": 3
   },
   "file_extension": ".py",
   "mimetype": "text/x-python",
   "name": "python",
   "nbconvert_exporter": "python",
   "pygments_lexer": "ipython3",
   "version": "3.8.10"
  }
 },
 "nbformat": 4,
 "nbformat_minor": 4
}
