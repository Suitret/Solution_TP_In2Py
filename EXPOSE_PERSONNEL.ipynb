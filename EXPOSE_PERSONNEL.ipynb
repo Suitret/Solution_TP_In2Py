{
 "cells": [
  {
   "cell_type": "markdown",
   "metadata": {},
   "source": [
    "<div class=\"alert alert-block alert-info\" style=\"background-color: #FFFFFF; border: 0px; -moz-border-radius: 10px; -webkit-border-radius: 10px;\">\n",
    "<br/><br/>\n",
    "<h3 style=\"font-size: 35px; color: black; align: center;\"><center>\n",
    "<img src=\"images/index.png\" width=\"500px\" /><br/><br/>\n",
    "Le Contrôle de Version avec Git  \n",
    " </center></h3>\n",
    "\n",
    "</div>"
   ]
  },
  {
   "cell_type": "markdown",
   "metadata": {},
   "source": [
    "\n",
    "<left> <b> <span style=\"color:brown; font-size: 30px;\">  Qu'est-ce que le contrôle de version ? </span> </b></left>\n",
    "\n",
    "\n",
    "Le contrôle de version, également appelé contrôle de source, désigne la pratique consistant à suivre et à gérer les changements apportés au code d'un logiciel. Les systèmes de contrôle de version sont des outils logiciels qui permettent aux équipes de développement de gérer les changements apportés au code source au fil du temps. Avec l'accélération des environnements de développement, les systèmes de contrôle de version aident les équipes de développement à travailler plus rapidement et plus intelligemment. Ils sont particulièrement utiles pour les équipes DevOps, car ils leur permettent de réduire le temps de développement et d'assurer le succès des déploiements.\n",
    "\n",
    "Le contrôle de version aide les équipes en suivant chaque changement individuel de chaque contributeur et en aidant à prévenir les conflits entre les tâches concomitantes. Les changements apportés à une partie du logiciel peuvent être incompatibles avec ceux apportés par un autre développeur travaillant en même temps. Ce type de problème doit être identifié et résolu de manière ordonnée sans bloquer le travail du reste de l'équipe.\n",
    "\n",
    "Les équipes de développement qui n'utilisent aucune forme de contrôle de version se heurtent souvent à des problèmes tels que le fait de ne pas savoir quels changements ont été mis à la disposition des utilisateurs ou l'apport de changements incompatibles entre deux éléments indépendants, qui doivent alors être minutieusement démêlés et retravaillés. Le contrôle de version est une solution à ces problèmes.\n",
    "\n",
    "Les systèmes de contrôle de version (VCS) ont connu de grandes améliorations au cours des dernières décennies, et certains sont meilleurs que d'autres. Les VCS sont parfois connus sous le nom d'outils de gestion du code source (SCM) ou de systèmes de contrôle des révisions (RCS). \n",
    "\n",
    "`Git est l'un des outils VCS les plus populaires utilisés aujourd'hui. Git est un VCS distribué, une catégorie connue sous le nom de DVCS. Comme beaucoup des systèmes VCS les plus populaires d'aujourd'hui, Git est gratuit et open source.`\n",
    "\n",
    "<br/><br/>\n",
    "<left> <b> <span style=\"color:brown; font-size: 30px;\">  Attentes d'un VCS </span> </b></left>\n",
    "\n",
    "\n",
    "- Un historique complet des changements à long terme de chaque fichier. Autrement dit, le moindre changement effectué par de nombreuses personnes au fil des ans.\n",
    "\n",
    "- Branching et merges. Le fait que les membres d'une équipe travaillent simultanément est une évidence, mais il peut être intéressant pour les personnes autonomes de pouvoir travailler sur des flux de changements indépendants. La création d'une « branche » dans des outils VCS permet de garder plusieurs flux de travail indépendants les uns des autres, tout en offrant la possibilité de merger ces tâches, ce qui permet aux développeurs de vérifier que les changements sur les différentes branches n'entrent pas en conflit. \n",
    "\n",
    "- Traçabilité. Pouvoir retracer chaque changement apporté au logiciel et le connecter à des logiciels de gestion de projet et de suivi des bugs comme Jira, et être capable d'annoter chaque changement avec un message décrivant son but peut contribuer entre autres à l'analyse des causes profondes et à d'autres analyses forensiques. \n",
    "\n",
    "<br/><br/>\n",
    "<left> <b> <span style=\"color:brown; font-size: 30px;\">  Installation de Git </span> </b></left><br/>\n",
    "\n",
    "\n",
    "- ## Git pour Mac <br/>\n",
    "\n",
    "    - Téléchargez la dernière version de [Git for Mac installer](https://sourceforge.net/projects/git-osx-installer/files/) (programme d'installation Git pour Mac).\n",
    "\n",
    "    - Suivez les invites pour installer Git.\n",
    "\n",
    "    - Ouvrez un terminal et vérifiez que l'installation a réussi en saisissant git --version :\n",
    "\n"
   ]
  },
  {
   "cell_type": "code",
   "execution_count": 2,
   "metadata": {},
   "outputs": [],
   "source": [
    "$ git --version"
   ]
  },
  {
   "cell_type": "markdown",
   "metadata": {},
   "source": [
    "\n",
    "- Configurez votre nom d'utilisateur et votre adresse e-mail Git à l'aide des commandes suivantes, en remplaçant le nom d'Emma par le vôtre. Ces informations seront associées à tous les commits que vous créez :"
   ]
  },
  {
   "cell_type": "code",
   "execution_count": null,
   "metadata": {},
   "outputs": [],
   "source": [
    "$ git config --global user.name \"Emma Paris\"\n",
    "\n",
    "$ git config --global user.email \"eparis@atlassian.com\""
   ]
  },
  {
   "cell_type": "markdown",
   "metadata": {},
   "source": [
    "- ## Git pour Windows <br/>\n",
    "\n",
    "    - Téléchargez la dernière version de [Git for Windows installer](https://git-for-windows.github.io/) (programme d'installation Git pour Windows).\n",
    "    \n",
    "    - Après avoir lancé le programme d'installation, vous devriez voir l'écran de l'assistant `Git Setup`. Suivez les invites `Next` (Suivant) et `Finish` (Terminer) pour terminer l'installation. Les options par défaut sont assez adaptées à la plupart des utilisateurs\n",
    "    \n",
    "    - Ouvrez une invite de commande (ou Git Bash si, durant l'installation, vous avez choisi de ne pas utiliser Git à partir de l'invite de commande Windows).\n",
    "\n",
    "    - Exécutez les commandes suivantes pour configurer votre nom d'utilisateur et votre adresse e-mail Git, en remplaçant le nom d'Emma par le vôtre. Ces informations seront associées à tous les commits que vous créez :"
   ]
  },
  {
   "cell_type": "code",
   "execution_count": null,
   "metadata": {},
   "outputs": [],
   "source": [
    "$ git config --global user.name \"Emma Paris\" $ git config --global user.email \"eparis@atlassian.com\""
   ]
  },
  {
   "cell_type": "markdown",
   "metadata": {},
   "source": [
    "- Facultatif : installez l'[application auxiliaire d'identification Git sur Windows](https://github.com/Microsoft/Git-Credential-Manager-for-Windows)"
   ]
  },
  {
   "cell_type": "markdown",
   "metadata": {},
   "source": [
    "- ## Git pour Linux <br/>\n",
    "\n",
    "    - Dans votre invite shell, installez Git via apt-get :"
   ]
  },
  {
   "cell_type": "code",
   "execution_count": null,
   "metadata": {},
   "outputs": [],
   "source": [
    "$ sudo apt-get update\n",
    "\n",
    "$ sudo apt-get install git"
   ]
  },
  {
   "cell_type": "markdown",
   "metadata": {},
   "source": [
    "- Pour vérifier la réussite de l'installation, saisissez git --version :"
   ]
  },
  {
   "cell_type": "code",
   "execution_count": null,
   "metadata": {},
   "outputs": [],
   "source": [
    "$ git --version"
   ]
  },
  {
   "cell_type": "markdown",
   "metadata": {},
   "source": [
    "- Configurez votre nom d'utilisateur et votre adresse e-mail Git à l'aide des commandes suivantes, en remplaçant le nom d'Emma par le vôtre. Ces informations seront associées à tous les commits que vous créez :"
   ]
  },
  {
   "cell_type": "code",
   "execution_count": null,
   "metadata": {},
   "outputs": [],
   "source": [
    "$ git config --global user.name \"Emma Paris\"\n",
    "\n",
    "$ git config --global user.email \"eparis@atlassian.com\""
   ]
  },
  {
   "cell_type": "markdown",
   "metadata": {},
   "source": [
    "<br/>\n",
    "<left> <b> <span style=\"color:brown; font-size: 30px;\">  Créer une nouvelle base de données Git  </span> </b></left><br/>\n",
    "\n",
    "Pour suivre les modifications au sein d'un dossier de projet, il faut d'abord avoir un dossier de projet. Il peut s'agir d'un dossier existant dans lequel vous travaillez déjà et dans lequel vous ajoutez Git, ou bien d'un tout nouveau projet pour lequel vous allez utiliser Git dès le départ.\n",
    "\n",
    "Créons donc un dossier intitulé `notre-projet` et entrons dans ce répertoire à l'aide de la commande `cd`"
   ]
  },
  {
   "cell_type": "code",
   "execution_count": null,
   "metadata": {},
   "outputs": [],
   "source": [
    "$ mkdir notre-projet\n",
    "\n",
    "$ cd notre-projet"
   ]
  },
  {
   "cell_type": "markdown",
   "metadata": {},
   "source": [
    "Nous allons initialiser un nouveau repository Git dans ce dossier de projet à l'aide de la commande `git init`"
   ]
  },
  {
   "cell_type": "code",
   "execution_count": null,
   "metadata": {},
   "outputs": [],
   "source": [
    "$ git init\n",
    "\n",
    "(master) $"
   ]
  },
  {
   "cell_type": "markdown",
   "metadata": {},
   "source": [
    "Un tout nouveau projet Git vide sur notre ordinateur. Il\n",
    "est vide à deux égards : il ne contient aucun fichier (n'oubliez\n",
    "pas que nous venons tout juste de créer ce répertoire) et aucun\n",
    "commit."
   ]
  },
  {
   "cell_type": "markdown",
   "metadata": {},
   "source": [
    "<br/>\n",
    "<left> <b> <span style=\"color:brown; font-size: 30px;\">  Cloner un projet existant </span> </b></left><br/>\n",
    "\n",
    "Si vous rejoignez un projet Git que vous n’avez pas vous-même\n",
    "initié, la première étape consiste à récupérer une copie du\n",
    "repository entreposé sur un serveur quelconque. C’est ce qu'on\n",
    "appelle cloner : ce qui est enregistré sur votre ordinateur est une\n",
    "réplique de tout ce qui a été stocké sur le serveur.\n",
    "\n",
    "`git clone`\n",
    "est une commande pratique qui exécute plusieurs commandes\n",
    "connexes simultanément : elle crée un nouveau répertoire de\n",
    "travail (portant le nom du repository présent sur le serveur par\n",
    "défaut), initialise un nouveau repository Git, ajoute un serveur\n",
    "distant (remote) appelé origin et extrait les modifications de ce\n",
    "serveur distant.\n"
   ]
  },
  {
   "cell_type": "code",
   "execution_count": null,
   "metadata": {},
   "outputs": [],
   "source": [
    "$ git clone https://gitforhumans.info/ »\n",
    "notre-site.git\n",
    "\n",
    "Cloning into notre-site...\n",
    "\n",
    "remote: Counting objects: 11, done.\n",
    "\n",
    "remote: Compressing objects: 100% (7/7), done.\n",
    "\n",
    "remote: Total 11 (delta 1), reused 11 (delta 1)\n",
    "\n",
    "Unpacking objects: 180% (11/11), done.\n",
    "\n",
    "Checking connectivity... done\n",
    "\n",
    "$ cd notre-site\n",
    "\n",
    "(master) $"
   ]
  },
  {
   "cell_type": "markdown",
   "metadata": {},
   "source": [
    "<br/>\n",
    "<left> <b> <span style=\"color:brown; font-size: 30px;\">  Statut Git </span> </b></left><br/>\n",
    "\n",
    "Nous allons maintenant ajouter au répertoire un fichier qui\n",
    "servira de page d'accueil.\n",
    "\n",
    "Ouvrez un nouveau document dans\n",
    "un éditeur HTML et ajoutons-y ceci :"
   ]
  },
  {
   "cell_type": "code",
   "execution_count": null,
   "metadata": {},
   "outputs": [],
   "source": [
    "<!DOCTYPE html>\n",
    "<html>\n",
    "<head>\n",
    "<title>Notre site</title>\n",
    "</head>\n",
    "<body>\n",
    "<h1>Notre site</h1>\n",
    "</body>\n",
    "</html>"
   ]
  },
  {
   "cell_type": "markdown",
   "metadata": {},
   "source": [
    "Enregistrons le fichier dans votre répertoire de projet\n",
    "sous le nom index.html. Avant de continuer, demandons à Git\n",
    "ce qu’il sait de l'état de notre projet en utilisant la commande\n",
    "`git status`."
   ]
  },
  {
   "cell_type": "code",
   "execution_count": null,
   "metadata": {},
   "outputs": [],
   "source": [
    "(master *) $: git status\n",
    "\n",
    "# On branch master\n",
    "\n",
    "#\n",
    "\n",
    "# Initial commit\n",
    "\n",
    "#\n",
    "\n",
    "# Untracked files:\n",
    "\n",
    "# {use \"git add <file>...\" to include in what will be committed)\n",
    "\n",
    "#\n",
    "\n",
    "# index.html\n",
    "\n",
    "nothing added to commit but untracked files present\n",
    "\n",
    "(use \"git add\" to track)"
   ]
  },
  {
   "cell_type": "markdown",
   "metadata": {},
   "source": [
    "Comme\n",
    "c'est un nouveau repository vide, notre prochain commit sera\n",
    "le commit initial, le tout premier de notre chronologie. Enfin,\n",
    "et surtout, nous avons une liste de fichiers untracked ou « non\n",
    "suivis », dont notre fichier index.html.\n",
    "\n",
    "<br/><br/>\n",
    "<left> <b> <span style=\"color:brown; font-size: 30px;\">  Ajouter des fichiers à Git </span> </b></left><br/>\n",
    "\n",
    "Avant de pouvoir committer un fichier, celui-ci doit être suivi.\n",
    "Et pour suivre un fichier, il faut l'ajouter à la base de données\n",
    "de Git.\n",
    "\n",
    "Un commit enregistre\n",
    "les modifications apportées aux fichiers figurant dans la base\n",
    "de données de Git ; il indique par exemple qu’un fichier est\n",
    "passé de la version A à la version B (ou, dans le cas d’un commit\n",
    "initial, il définit ce qu'est la version A). En toute logique, pour\n",
    "savoir comment la version A a changé pour devenir B, Git doit\n",
    "connaître les versions A et B à titre individuel. Pour des raisons\n",
    "de simplicité , il est normal que nous autres, êtres\n",
    "humains, considérions les commits comme un raccourci pour\n",
    "désigner des versions spécifiques des fichiers et des dossiers.\n",
    "Mais en tant que tels, les commits ne sont que des références,\n",
    "de même qu’une adresse postale référence une maison.\n",
    "\n",
    "Quand on ajoute un fichier, on construit la maison. La commande `git add` prend un snapshot du fichier en question et\n",
    "l'enregistre dans le repository pour qu’il soit référençable ulté-\n",
    "rieurement, dans un commit.\n",
    "\n",
    "Pour ajouter le fichier de la page d'accueil, saisissons ce qui suit :"
   ]
  },
  {
   "cell_type": "code",
   "execution_count": null,
   "metadata": {},
   "outputs": [],
   "source": [
    "(master *) $: git add index.html"
   ]
  },
  {
   "cell_type": "markdown",
   "metadata": {},
   "source": [
    "En général, Git ne répond rien et ne vous dit pas qu’il s'est passé\n",
    "quoi que ce soit.\n",
    "\n",
    "Vérifions à nouveau avec `git status` :"
   ]
  },
  {
   "cell_type": "code",
   "execution_count": null,
   "metadata": {},
   "outputs": [],
   "source": [
    "(master *) $: git status\n",
    "# On branch master\n",
    "\n",
    "Initial commit\n",
    "\n",
    "#\n",
    "#\n",
    "# Changes to be committed:\n",
    "\n",
    "# (use \"git rm --cached «file»...\n",
    "#\n",
    "\n",
    "#\n",
    "\n",
    "#\n",
    "\n",
    "to unstage)\n",
    "\n",
    "new file: index.html"
   ]
  },
  {
   "cell_type": "markdown",
   "metadata": {},
   "source": [
    "Notre fichier ne figure plus dans la liste des Untracked files,\n",
    "mais dans la liste Changes to be committed. Nous avons\n",
    "maintenant indexé notre fichier et nous sommes prêts à le\n",
    "committer."
   ]
  },
  {
   "cell_type": "code",
   "execution_count": null,
   "metadata": {},
   "outputs": [],
   "source": [
    "(master *) $: git commit --message \"Commit initial\"\n",
    "[master (root-commit) 688df9F] Commit initial\n",
    "1 file changed, 9 insertions(+)\n",
    "create mode 188644 index.html\n",
    "(master) $:"
   ]
  },
  {
   "cell_type": "markdown",
   "metadata": {},
   "source": [
    "<br/>\n",
    "<left> <b> <span style=\"color:brown; font-size: 30px;\">  Retirer des fichiers de Git </span> </b></left><br/>\n",
    "\n",
    "Imaginons que depuis notre dernière séance de travail sur le\n",
    "projet web, un collègue à ajouté un fichier robots.txt pour indi-\n",
    "quer aux moteurs de recherche de ne rien indexer sur le site.\n",
    "\n",
    "Nous avons finalement changé d’avis et il faut désormais qu’il\n",
    "soit indexé. Nous devons donc retirer le fichier robots.txt.\n",
    "\n",
    "Pour cela on utilise `git rm`:\n"
   ]
  },
  {
   "cell_type": "code",
   "execution_count": null,
   "metadata": {},
   "outputs": [],
   "source": [
    "(master) $: git rm robots.txt\n",
    "rm ‘robots.txt'\n",
    "[master *] $:"
   ]
  },
  {
   "cell_type": "markdown",
   "metadata": {},
   "source": [
    "En exécutant git status, on voit que la suppression du fichier\n",
    "a été indexée pour être incluse dans le prochain commit :"
   ]
  },
  {
   "cell_type": "code",
   "execution_count": null,
   "metadata": {},
   "outputs": [],
   "source": [
    "[master *] $: git status\n",
    "# On branch master\n",
    "# Your branch is ahead of ‘origin/master' by 1 commit.\n",
    "{use \"git push\" to publish your local commits)\n",
    "\n",
    "Changes to be committed:\n",
    "\n",
    "(use \"git reset HEAD <file>...\" to unstage)\n",
    "\n",
    "deleted: robots.txt"
   ]
  },
  {
   "cell_type": "markdown",
   "metadata": {},
   "source": [
    "<br/>\n",
    "<left> <b> <span style=\"color:brown; font-size: 30px;\">  Ouvrir une nouvelle branche </span> </b></left><br/>\n",
    "\n",
    "Avant de créer notre première branche, nous allons passer en\n",
    "revue la liste de toutes les branches du repository local à l’aide\n",
    "de la commande `git branch`:"
   ]
  },
  {
   "cell_type": "code",
   "execution_count": null,
   "metadata": {},
   "outputs": [],
   "source": [
    "(master) $: git branch\n",
    "* master"
   ]
  },
  {
   "cell_type": "markdown",
   "metadata": {},
   "source": [
    "Pour créer une nouvelle branche, il suffit de passer son nom\n",
    "dans la commande git branch, comme suit :"
   ]
  },
  {
   "cell_type": "code",
   "execution_count": null,
   "metadata": {},
   "outputs": [],
   "source": [
    "(master) $: git branch nouvelle-page-accueil"
   ]
  },
  {
   "cell_type": "markdown",
   "metadata": {},
   "source": [
    "L’extraction d’une branche a deux effets. Tout d’abord, elle réini-\n",
    "tialise la copie de travail qui devient le reflet du commit de tête\n",
    "de la branche. Elle définit ensuite la branche choisie comme\n",
    "branche actuelle, de sorte que chaque nouveau commit sera\n",
    "ajouté à la branche en question.\n",
    "\n",
    "Pour changer de branche, il faut donc utiliser la commande `git checkout`"
   ]
  },
  {
   "cell_type": "code",
   "execution_count": null,
   "metadata": {},
   "outputs": [],
   "source": [
    "(master) $: git checkout nouvelle-page-accueil\n",
    "Switched to branch ‘nouvelle-page-accueil'\n",
    "(nouvelle-page-accueil) $:"
   ]
  },
  {
   "cell_type": "markdown",
   "metadata": {},
   "source": [
    "<br/>\n",
    "<left> <b> <span style=\"color:brown; font-size: 30px;\">  Fusionner deux branches </span> </b></left><br/>\n",
    "\n",
    "La fusion (ou merge) combine deux (ou plus, mais généralement\n",
    "deux) branches différentes de votre projet en une version uni-\n",
    "fiée présentant les attributs des deux branches. D’un côté, vous \n",
    "avez la branche master, contenant la version de votre site qui\n",
    "se trouve actuellement sur le web. Un collègue de votre équipe\n",
    "découvre une erreur dans les informations de contact et crée une nouvelle branche thématique nommée maj-infos-con-\n",
    "tact où il corrige l'erreur. Vous voulez maintenant une version\n",
    "de la branche master incluant les nouvelles informations de\n",
    "contact figurant dans maj-infos-contact.\n",
    "\n",
    "Pour cela, on extrait d’abord la branche master dans la copie\n",
    "locale :"
   ]
  },
  {
   "cell_type": "code",
   "execution_count": null,
   "metadata": {},
   "outputs": [],
   "source": [
    "[update-contact-info] $: git checkout master\n",
    "Switching to branch ‘master\n",
    "\n",
    "[master] $:"
   ]
  },
  {
   "cell_type": "markdown",
   "metadata": {},
   "source": [
    "On utilise ensuite la commande `git merge` pour insérer les\n",
    "modifications de l’autre branche dans la copie de master :"
   ]
  },
  {
   "cell_type": "code",
   "execution_count": null,
   "metadata": {},
   "outputs": [],
   "source": [
    "[master] $: git merge maj-infos-contact\n",
    "Updating 286af1c..885e3ff\n",
    "Fast-forward"
   ]
  },
  {
   "cell_type": "markdown",
   "metadata": {},
   "source": [
    "Et voilà ! Vous possédez maintenant une version de master\n",
    "contenant tout ce qui s’y trouvait auparavant, ainsi que les nouvelles informations de contact."
   ]
  }
 ],
 "metadata": {
  "kernelspec": {
   "display_name": "Python 3",
   "language": "python",
   "name": "python3"
  },
  "language_info": {
   "codemirror_mode": {
    "name": "ipython",
    "version": 3
   },
   "file_extension": ".py",
   "mimetype": "text/x-python",
   "name": "python",
   "nbconvert_exporter": "python",
   "pygments_lexer": "ipython3",
   "version": "3.8.10"
  }
 },
 "nbformat": 4,
 "nbformat_minor": 4
}
